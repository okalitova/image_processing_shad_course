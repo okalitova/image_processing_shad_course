{
 "cells": [
  {
   "cell_type": "code",
   "execution_count": 1,
   "metadata": {
    "collapsed": false
   },
   "outputs": [],
   "source": [
    "from numpy import where\n",
    "from os.path import join\n",
    "from pickle import dump\n",
    "from skimage.io import imread\n",
    "from skimage.io import imshow\n",
    "import matplotlib.pyplot as plt\n",
    "import numpy as np\n",
    "from scipy.ndimage import minimum_filter1d"
   ]
  },
  {
   "cell_type": "code",
   "execution_count": 53,
   "metadata": {
    "collapsed": true
   },
   "outputs": [],
   "source": [
    "def convert_img_to_mask(img):\n",
    "        return ((img[:, :, 0] != 0) * -1 + (img[:, :, 1] != 0)).astype('int8')"
   ]
  },
  {
   "cell_type": "code",
   "execution_count": 54,
   "metadata": {
    "collapsed": true
   },
   "outputs": [],
   "source": [
    "data_dir = \"01_input/\""
   ]
  },
  {
   "cell_type": "code",
   "execution_count": 55,
   "metadata": {
    "collapsed": false
   },
   "outputs": [],
   "source": [
    "img = imread(join(data_dir, 'img.png'))\n",
    "mask = convert_img_to_mask(imread(join(data_dir, 'mask.png')))"
   ]
  },
  {
   "cell_type": "code",
   "execution_count": 56,
   "metadata": {
    "collapsed": false
   },
   "outputs": [
    {
     "name": "stdout",
     "output_type": "stream",
     "text": [
      "(475, 700, 3)\n"
     ]
    }
   ],
   "source": [
    "print(img.shape)"
   ]
  },
  {
   "cell_type": "code",
   "execution_count": 68,
   "metadata": {
    "collapsed": false
   },
   "outputs": [
    {
     "name": "stdout",
     "output_type": "stream",
     "text": [
      "(700, 475, 3)\n"
     ]
    }
   ],
   "source": [
    "print(np.transpose(img, (1, 0, 2)).shape)\n"
   ]
  },
  {
   "cell_type": "code",
   "execution_count": 6,
   "metadata": {
    "collapsed": false,
    "scrolled": true
   },
   "outputs": [
    {
     "name": "stdout",
     "output_type": "stream",
     "text": [
      "(475, 700)\n"
     ]
    }
   ],
   "source": [
    "print(mask.shape)"
   ]
  },
  {
   "cell_type": "code",
   "execution_count": 7,
   "metadata": {
    "collapsed": true
   },
   "outputs": [],
   "source": [
    "h, w, c = img.shape"
   ]
  },
  {
   "cell_type": "code",
   "execution_count": 45,
   "metadata": {
    "collapsed": true
   },
   "outputs": [],
   "source": [
    "def get_img_y(img):\n",
    "    img_y = []\n",
    "    for row in img:\n",
    "        row_y = []\n",
    "        for pixel in row:\n",
    "            r, g, b = pixel\n",
    "            y = 0.299 * r + 0.587 * g + 0.114 * b\n",
    "            row_y.append(y)\n",
    "        img_y.append(row_y)\n",
    "    return np.asarray(img_y)"
   ]
  },
  {
   "cell_type": "code",
   "execution_count": 46,
   "metadata": {
    "collapsed": false
   },
   "outputs": [],
   "source": [
    "img_y = get_img_y(img)"
   ]
  },
  {
   "cell_type": "code",
   "execution_count": 47,
   "metadata": {
    "collapsed": false
   },
   "outputs": [
    {
     "name": "stdout",
     "output_type": "stream",
     "text": [
      "(475, 700)\n"
     ]
    }
   ],
   "source": [
    "print(img_y.shape)"
   ]
  },
  {
   "cell_type": "code",
   "execution_count": 48,
   "metadata": {
    "collapsed": true
   },
   "outputs": [],
   "source": [
    "def get_grad_x(img):\n",
    "    h, w = img.shape\n",
    "    grad_x = []\n",
    "    for row in img:\n",
    "        grad_x_row = row[:-2] - row[2:]\n",
    "        grad_x_row = [row[0] - row[1]] + list(grad_x_row) + [row[-2] - row[-1]]\n",
    "        grad_x.append(grad_x_row)\n",
    "    return np.asarray(grad_x)"
   ]
  },
  {
   "cell_type": "code",
   "execution_count": 49,
   "metadata": {
    "collapsed": true
   },
   "outputs": [],
   "source": [
    "def get_grad(img, mask):\n",
    "    h, w = img.shape\n",
    "    grad_x = get_grad_x(img)\n",
    "    grad_y = get_grad_x(img.T).T\n",
    "    grad = np.sqrt(grad_x ** 2 + grad_y ** 2)\n",
    "    if mask is not None:\n",
    "        grad = grad + mask * max(h, w) * 64\n",
    "    return grad"
   ]
  },
  {
   "cell_type": "code",
   "execution_count": 13,
   "metadata": {
    "collapsed": true
   },
   "outputs": [],
   "source": [
    "img_y_grad = get_grad(img_y)"
   ]
  },
  {
   "cell_type": "code",
   "execution_count": 50,
   "metadata": {
    "collapsed": false
   },
   "outputs": [],
   "source": [
    "def find_carve_vertical(img_energies):\n",
    "    h, w = img_energies.shape\n",
    "    carves = [[-1 for j in range(w)] for i in range(h)]\n",
    "    acc_energies = [[0 for j in range(w)] for i in range(h)]\n",
    "    for i in range(w):\n",
    "        carves[0][i] = i\n",
    "        acc_energies[0][i] = img_energies[0][i]\n",
    "    \n",
    "    for i in range(1, h):\n",
    "        for j in range(w):\n",
    "            neigs = []\n",
    "            if j - 1 >= 0:\n",
    "                neigs.append(j - 1)\n",
    "            neigs.append(j)\n",
    "            if j + 1 <= w - 1:\n",
    "                neigs.append(j + 1)\n",
    "                \n",
    "            mmin = 10000000\n",
    "            for k in range(len(neigs)):\n",
    "                if acc_energies[i - 1][neigs[k]] < mmin:\n",
    "                    mmin = acc_energies[i - 1][neigs[k]]\n",
    "                    carves[i][j] = neigs[k]\n",
    "                    acc_energies[i][j] = mmin + img_energies[i][j]\n",
    "    \n",
    "    final_index = np.argmin(acc_energies[h - 1])\n",
    "    carve = [(h - 1, final_index)]\n",
    "    for i in range(h - 1, 0, -1):\n",
    "        final_index = carves[i][final_index]\n",
    "        carve.append((i - 1, final_index))\n",
    "    \n",
    "    return list(reversed(carve))"
   ]
  },
  {
   "cell_type": "code",
   "execution_count": 15,
   "metadata": {
    "collapsed": false
   },
   "outputs": [],
   "source": [
    "carve = find_carve_vertical(img_y_grad)"
   ]
  },
  {
   "cell_type": "code",
   "execution_count": 51,
   "metadata": {
    "collapsed": true
   },
   "outputs": [],
   "source": [
    "def get_img_carved(img, carve):\n",
    "    h, w, c = img.shape\n",
    "    \n",
    "    new_img = []\n",
    "    for i in range(h):\n",
    "        new_row = img[i].copy()\n",
    "        new_row = np.delete(new_row, carve[i][1], 0)\n",
    "        new_img.append(new_row)\n",
    "    return np.asarray(new_img)"
   ]
  },
  {
   "cell_type": "code",
   "execution_count": 25,
   "metadata": {
    "collapsed": true
   },
   "outputs": [],
   "source": [
    "def get_mask_carved(mask, carve):\n",
    "    h, w = mask.shape\n",
    "    \n",
    "    new_mask = []\n",
    "    for i in range(h):\n",
    "        new_row = mask[i].copy()\n",
    "        new_row = np.delete(new_row, carve[i][1])\n",
    "        new_mask.append(new_row)\n",
    "    return np.asarray(new_mask)"
   ]
  },
  {
   "cell_type": "code",
   "execution_count": 17,
   "metadata": {
    "collapsed": true
   },
   "outputs": [],
   "source": [
    "def get_img_carve(img, carve):\n",
    "    h, w, c = img.shape\n",
    "    \n",
    "    new_img = []\n",
    "    for i in range(h):\n",
    "        new_row = np.zeros(w)\n",
    "        new_row[carve[i][1]] = 1\n",
    "        new_img.append(new_row)\n",
    "    return np.asarray(new_img)"
   ]
  },
  {
   "cell_type": "code",
   "execution_count": 52,
   "metadata": {
    "collapsed": true
   },
   "outputs": [],
   "source": [
    "def seam_carve(img, mode, mask):\n",
    "    if mode.find(\"vertical\") != -1:\n",
    "        img = img.T\n",
    "        if mask is not None:\n",
    "            mask = mask.T\n",
    "    img_y = get_img_y(img)\n",
    "    img_y_grad = get_grad(img_y, mask)\n",
    "    carve = find_carve_vertical(img_y_grad)\n",
    "    new_img = get_img_carved(img, carve)\n",
    "    new_mask = None\n",
    "    if mask is not None:\n",
    "        new_mask = get_mask_carved(mask, carve)\n",
    "    img_carve = get_img_carve(img, carve)\n",
    "    if mode.find(\"vertical\") != -1:\n",
    "        new_img = new_img.T\n",
    "        if new_mask is not None:\n",
    "            new_mask = new_mask.T\n",
    "        img_carve = img_carve.T\n",
    "    return new_img, new_mask, img_carve"
   ]
  },
  {
   "cell_type": "code",
   "execution_count": 40,
   "metadata": {
    "collapsed": false
   },
   "outputs": [],
   "source": [
    "new_img, new_mask, img_carve = seam_carve(img, None, None)"
   ]
  },
  {
   "cell_type": "code",
   "execution_count": 41,
   "metadata": {
    "collapsed": false
   },
   "outputs": [
    {
     "name": "stdout",
     "output_type": "stream",
     "text": [
      "(475, 700)\n"
     ]
    }
   ],
   "source": [
    "print(img_carve.shape)\n",
    "h, w = img_carve.shape"
   ]
  },
  {
   "cell_type": "code",
   "execution_count": 42,
   "metadata": {
    "collapsed": false
   },
   "outputs": [
    {
     "name": "stderr",
     "output_type": "stream",
     "text": [
      "/home/nimloth/anaconda3/lib/python3.5/site-packages/skimage/io/_plugins/matplotlib_plugin.py:74: UserWarning: Low image dynamic range; displaying image with stretched contrast.\n",
      "  warn(\"Low image dynamic range; displaying image with \"\n"
     ]
    },
    {
     "data": {
      "image/png": "[encoded data removed]",
      "text/plain": [
       "<matplotlib.figure.Figure at 0x7f46776fef98>"
      ]
     },
     "metadata": {},
     "output_type": "display_data"
    }
   ],
   "source": [
    "imshow(img_carve)\n",
    "plt.show()"
   ]
  },
  {
   "cell_type": "code",
   "execution_count": 37,
   "metadata": {
    "collapsed": false
   },
   "outputs": [],
   "source": [
    "for i in range(h):\n",
    "    if sum(img_carve[i]) != 1:\n",
    "        print(\"bug\")"
   ]
  },
  {
   "cell_type": "code",
   "execution_count": null,
   "metadata": {
    "collapsed": true
   },
   "outputs": [],
   "source": []
  }
 ],
 "metadata": {
  "anaconda-cloud": {},
  "kernelspec": {
   "display_name": "Python [conda root]",
   "language": "python",
   "name": "conda-root-py"
  },
  "language_info": {
   "codemirror_mode": {
    "name": "ipython",
    "version": 3
   },
   "file_extension": ".py",
   "mimetype": "text/x-python",
   "name": "python",
   "nbconvert_exporter": "python",
   "pygments_lexer": "ipython3",
   "version": "3.5.2"
  }
 },
 "nbformat": 4,
 "nbformat_minor": 1
}
