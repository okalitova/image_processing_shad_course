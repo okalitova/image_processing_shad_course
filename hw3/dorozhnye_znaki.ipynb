{
 "cells": [
  {
   "cell_type": "code",
   "execution_count": 233,
   "metadata": {
    "collapsed": false
   },
   "outputs": [],
   "source": [
    "from skimage.io import imread, imshow\n",
    "import matplotlib.pyplot as plt\n",
    "import numpy as np\n",
    "from scipy.misc import imresize\n",
    "import math\n",
    "from scipy.ndimage.filters import convolve1d\n",
    "from sklearn.svm import LinearSVC\n",
    "from sklearn.datasets import make_classification\n",
    "import pandas as pd\n",
    "from sklearn.model_selection import train_test_split\n",
    "from sklearn.metrics import accuracy_score"
   ]
  },
  {
   "cell_type": "code",
   "execution_count": 218,
   "metadata": {
    "collapsed": true
   },
   "outputs": [],
   "source": [
    "img = imread('00_input/train/00000.png')"
   ]
  },
  {
   "cell_type": "code",
   "execution_count": 219,
   "metadata": {
    "collapsed": true
   },
   "outputs": [],
   "source": [
    "img_resized = imresize(img, size=(32, 32, 3))"
   ]
  },
  {
   "cell_type": "code",
   "execution_count": 220,
   "metadata": {
    "collapsed": true
   },
   "outputs": [],
   "source": [
    "def get_img_y(img):\n",
    "    img_y = []\n",
    "    for row in img:\n",
    "        img_y.append(0.299 * row.T[0] + 0.587 * row.T[1] + 0.114 * row.T[2])\n",
    "    return np.asarray(img_y)\n",
    "\n",
    "def get_grad_x(img):\n",
    "    return convolve1d(img, [1, 0, -1])\n",
    "\n",
    "def get_grad(img):\n",
    "    h, w = img.shape\n",
    "    grad_x = get_grad_x(img)\n",
    "    grad_y = get_grad_x(img.T).T\n",
    "    grad_magn = np.sqrt(grad_x ** 2 + grad_y ** 2)\n",
    "    grad_angl = np.arctan2(grad_y, grad_x)\n",
    "    grad_uns_angl = grad_angl * (grad_angl >= 0) + (np.pi + grad_angl) * (grad_angl < 0)\n",
    "    return grad_magn, grad_uns_angl"
   ]
  },
  {
   "cell_type": "code",
   "execution_count": 221,
   "metadata": {
    "collapsed": false
   },
   "outputs": [],
   "source": [
    "def get_hog(grad_magn, grad_angl, bins_number=9):\n",
    "    hog = [0 for _ in range(bins_number)]\n",
    "    bin_size = np.pi / bins_number\n",
    "    for i in range(len(grad_angl)):\n",
    "        for j in range(len(grad_angl[i])):\n",
    "            grad_m = grad_magn[i][j]\n",
    "            grad_a = grad_angl[i][j]\n",
    "            bin_number = grad_a / bin_size\n",
    "            bin_1_number = int(bin_number) % bins_number\n",
    "            bin_2_number = (bin_1_number + 1) % bins_number\n",
    "            hog[bin_1_number] += grad_m * abs(1 - bin_number + int(bin_number)) / bin_size\n",
    "            hog[bin_2_number] += grad_m * abs(bin_number - int(bin_number)) / bin_size\n",
    "    return hog"
   ]
  },
  {
   "cell_type": "code",
   "execution_count": 222,
   "metadata": {
    "collapsed": false
   },
   "outputs": [],
   "source": [
    "img_y = get_img_y(img_resized)\n",
    "grad_magn, grad_angl = get_grad(img_y)"
   ]
  },
  {
   "cell_type": "code",
   "execution_count": 223,
   "metadata": {
    "collapsed": false
   },
   "outputs": [],
   "source": [
    "hog = get_hog(grad_magn, grad_angl)"
   ]
  },
  {
   "cell_type": "code",
   "execution_count": 224,
   "metadata": {
    "collapsed": false
   },
   "outputs": [],
   "source": [
    "def get_hog_for_cells(grad_magn, grad_angl, cell_size=8):\n",
    "    n = len(grad_magn) \n",
    "    n_cell = 0\n",
    "    if n % cell_size == 0:\n",
    "        n_cell = int(n / cell_size)\n",
    "    else:\n",
    "        n_cell = int(n / cell_size) + 1\n",
    "    hog_cells = [[] for _ in range(n_cell)]\n",
    "    for i in range(0, n, cell_size):\n",
    "        for j in range(0, n, cell_size):\n",
    "            hog = get_hog(grad_magn[i:i + cell_size, j:j + cell_size],\n",
    "                         grad_angl[i:i + cell_size, j:j + cell_size]) \n",
    "            hog_cells[int(i / cell_size)].append(hog)\n",
    "    return np.asarray(hog_cells)"
   ]
  },
  {
   "cell_type": "code",
   "execution_count": 225,
   "metadata": {
    "collapsed": false
   },
   "outputs": [],
   "source": [
    "hog_cells = get_hog_for_cells(grad_magn, grad_angl)"
   ]
  },
  {
   "cell_type": "code",
   "execution_count": 226,
   "metadata": {
    "collapsed": false
   },
   "outputs": [],
   "source": [
    "def get_hog_for_blocks(hog_cells, block_size=3):\n",
    "    n = len(hog_cells)\n",
    "    eps = 10 ** (-9)\n",
    "    hog_blocks = np.array([])\n",
    "    for i in range(n - block_size + 1):\n",
    "        for j in range(n - block_size + 1):\n",
    "            normed_hog = np.array([])\n",
    "            for ii in range(block_size):\n",
    "                for jj in range(block_size):\n",
    "                    normed_hog = np.concatenate([normed_hog, hog_cells[i][j]])\n",
    "            normed_hog = normed_hog / (np.sqrt(np.sum(normed_hog ** 2)) + eps)\n",
    "            hog_blocks = np.concatenate([hog_blocks, normed_hog])\n",
    "    return hog_blocks    "
   ]
  },
  {
   "cell_type": "code",
   "execution_count": 227,
   "metadata": {
    "collapsed": false
   },
   "outputs": [],
   "source": [
    "hog_blocks = get_hog_for_blocks(hog_cells)"
   ]
  },
  {
   "cell_type": "code",
   "execution_count": 237,
   "metadata": {
    "collapsed": true
   },
   "outputs": [],
   "source": [
    "def get_features(img):\n",
    "    img_resized = imresize(img, size=(32, 32, 3))\n",
    "    img_y = get_img_y(img_resized)\n",
    "    grad_magn, grad_angl = get_grad(img_y)\n",
    "    hog_cells = get_hog_for_cells(grad_magn, grad_angl, cell_size=4)\n",
    "    hog_blocks = get_hog_for_blocks(hog_cells, block_size=2)\n",
    "    return hog_blocks"
   ]
  },
  {
   "cell_type": "code",
   "execution_count": 238,
   "metadata": {
    "collapsed": false
   },
   "outputs": [
    {
     "name": "stdout",
     "output_type": "stream",
     "text": [
      "    filename  class_id\n",
      "0  00000.png         0\n",
      "1  00001.png         0\n",
      "2  00002.png         0\n",
      "3  00003.png         0\n",
      "4  00004.png         0\n"
     ]
    }
   ],
   "source": [
    "data = pd.read_csv('00_input/train/gt.csv')\n",
    "print(data.head())"
   ]
  },
  {
   "cell_type": "code",
   "execution_count": 239,
   "metadata": {
    "collapsed": false
   },
   "outputs": [
    {
     "name": "stdout",
     "output_type": "stream",
     "text": [
      "CPU times: user 7min 41s, sys: 3.74 s, total: 7min 44s\n",
      "Wall time: 13min 25s\n"
     ]
    }
   ],
   "source": [
    "%%time\n",
    "X = []\n",
    "y = []\n",
    "for index, row in data.iterrows():\n",
    "    filename = row['filename']\n",
    "    class_id = int(row['class_id'])\n",
    "    x = get_features(imread('00_input/train/' + filename))\n",
    "    X.append(x)\n",
    "    y.append(class_id)"
   ]
  },
  {
   "cell_type": "code",
   "execution_count": 247,
   "metadata": {
    "collapsed": false
   },
   "outputs": [],
   "source": [
    "X_train, X_test, y_train, y_test = train_test_split(X,\n",
    "                                                    y,\n",
    "                                                    test_size=0.33,\n",
    "                                                    random_state=42)"
   ]
  },
  {
   "cell_type": "code",
   "execution_count": 258,
   "metadata": {
    "collapsed": false
   },
   "outputs": [
    {
     "data": {
      "text/plain": [
       "LinearSVC(C=0.2, class_weight=None, dual=False, fit_intercept=True,\n",
       "     intercept_scaling=1, loss='squared_hinge', max_iter=1000,\n",
       "     multi_class='ovr', penalty='l2', random_state=42, tol=0.0001,\n",
       "     verbose=0)"
      ]
     },
     "execution_count": 258,
     "metadata": {},
     "output_type": "execute_result"
    }
   ],
   "source": [
    "clf = LinearSVC(random_state=42, C=0.2, dual=False)\n",
    "clf.fit(X_train, y_train)"
   ]
  },
  {
   "cell_type": "code",
   "execution_count": 259,
   "metadata": {
    "collapsed": true
   },
   "outputs": [],
   "source": [
    "y_pred = clf.predict(X_test)"
   ]
  },
  {
   "cell_type": "code",
   "execution_count": 260,
   "metadata": {
    "collapsed": false
   },
   "outputs": [
    {
     "data": {
      "text/plain": [
       "0.95610170801452976"
      ]
     },
     "execution_count": 260,
     "metadata": {},
     "output_type": "execute_result"
    }
   ],
   "source": [
    "accuracy_score(y_test, y_pred)"
   ]
  },
  {
   "cell_type": "code",
   "execution_count": 261,
   "metadata": {
    "collapsed": false
   },
   "outputs": [
    {
     "data": {
      "text/plain": [
       "0.98374571754853446"
      ]
     },
     "execution_count": 261,
     "metadata": {},
     "output_type": "execute_result"
    }
   ],
   "source": [
    "accuracy_score(y_train, clf.predict(X_train))"
   ]
  },
  {
   "cell_type": "code",
   "execution_count": null,
   "metadata": {
    "collapsed": true
   },
   "outputs": [],
   "source": []
  }
 ],
 "metadata": {
  "anaconda-cloud": {},
  "kernelspec": {
   "display_name": "Python [conda root]",
   "language": "python",
   "name": "conda-root-py"
  },
  "language_info": {
   "codemirror_mode": {
    "name": "ipython",
    "version": 3
   },
   "file_extension": ".py",
   "mimetype": "text/x-python",
   "name": "python",
   "nbconvert_exporter": "python",
   "pygments_lexer": "ipython3",
   "version": "3.5.2"
  }
 },
 "nbformat": 4,
 "nbformat_minor": 1
}
